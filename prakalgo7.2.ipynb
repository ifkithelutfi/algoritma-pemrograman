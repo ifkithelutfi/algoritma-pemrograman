{
 "cells": [
  {
   "cell_type": "code",
   "execution_count": 7,
   "id": "75997d7c-8355-431f-b001-6511c0907e93",
   "metadata": {},
   "outputs": [
    {
     "name": "stdin",
     "output_type": "stream",
     "text": [
      "Masukkan jumlah input:  7\n",
      ">> 1\n"
     ]
    },
    {
     "name": "stdout",
     "output_type": "stream",
     "text": [
      "1st\n"
     ]
    },
    {
     "name": "stdin",
     "output_type": "stream",
     "text": [
      ">> 2\n"
     ]
    },
    {
     "name": "stdout",
     "output_type": "stream",
     "text": [
      "2nd\n"
     ]
    },
    {
     "name": "stdin",
     "output_type": "stream",
     "text": [
      ">> 3\n"
     ]
    },
    {
     "name": "stdout",
     "output_type": "stream",
     "text": [
      "3rd\n"
     ]
    },
    {
     "name": "stdin",
     "output_type": "stream",
     "text": [
      ">> 4\n"
     ]
    },
    {
     "name": "stdout",
     "output_type": "stream",
     "text": [
      "4th\n"
     ]
    },
    {
     "name": "stdin",
     "output_type": "stream",
     "text": [
      ">> 21\n"
     ]
    },
    {
     "name": "stdout",
     "output_type": "stream",
     "text": [
      "21st\n"
     ]
    },
    {
     "name": "stdin",
     "output_type": "stream",
     "text": [
      ">> 23\n"
     ]
    },
    {
     "name": "stdout",
     "output_type": "stream",
     "text": [
      "23rd\n"
     ]
    },
    {
     "name": "stdin",
     "output_type": "stream",
     "text": [
      ">> 0\n"
     ]
    },
    {
     "name": "stdout",
     "output_type": "stream",
     "text": [
      "0th\n",
      "bye bye :3\n"
     ]
    }
   ],
   "source": [
    "def add_ordinal_suffix(number):\n",
    "    if 10 <= number % 100 <= 20:\n",
    "        return f\"{number}th\"\n",
    "    suffix = {1: 'st', 2: 'nd', 3: 'rd'}.get(number % 10, 'th')\n",
    "    return f\"{number}{suffix}\"\n",
    "\n",
    "n = int(input(\"Masukkan jumlah input: \"))\n",
    "for _ in range(n):\n",
    "    number = int(input(\">>\"))\n",
    "    if number == 0:\n",
    "        print(\"0th\\nbye bye :3\")\n",
    "        break\n",
    "    print(add_ordinal_suffix(number))"
   ]
  },
  {
   "cell_type": "code",
   "execution_count": null,
   "id": "7eb3ce3a-f6b4-465a-bdbd-e4473498b68c",
   "metadata": {},
   "outputs": [],
   "source": []
  }
 ],
 "metadata": {
  "kernelspec": {
   "display_name": "Python 3 (ipykernel)",
   "language": "python",
   "name": "python3"
  },
  "language_info": {
   "codemirror_mode": {
    "name": "ipython",
    "version": 3
   },
   "file_extension": ".py",
   "mimetype": "text/x-python",
   "name": "python",
   "nbconvert_exporter": "python",
   "pygments_lexer": "ipython3",
   "version": "3.12.4"
  }
 },
 "nbformat": 4,
 "nbformat_minor": 5
}
