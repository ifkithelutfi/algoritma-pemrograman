{
 "cells": [
  {
   "cell_type": "code",
   "execution_count": null,
   "id": "9617b3a6-82bc-473e-ad1f-8fccaf8091fb",
   "metadata": {},
   "outputs": [],
   "source": []
  },
  {
   "cell_type": "code",
   "execution_count": 25,
   "id": "58d91715-521d-44a9-9998-45ae87fec087",
   "metadata": {},
   "outputs": [
    {
     "name": "stdin",
     "output_type": "stream",
     "text": [
      "Masukan Nilai :  A\n"
     ]
    },
    {
     "name": "stdout",
     "output_type": "stream",
     "text": [
      "Nilai = 4.00\n"
     ]
    },
    {
     "name": "stdin",
     "output_type": "stream",
     "text": [
      "Masukan Nilai :  C\n"
     ]
    },
    {
     "name": "stdout",
     "output_type": "stream",
     "text": [
      "Nilai = 2.00\n"
     ]
    },
    {
     "name": "stdin",
     "output_type": "stream",
     "text": [
      "Masukan Nilai :  \n"
     ]
    },
    {
     "name": "stdout",
     "output_type": "stream",
     "text": [
      "bentar ya di itung dulu\n",
      "rata-rata nilai : 3.0\n"
     ]
    }
   ],
   "source": [
    "# 'A' == 4.00\n",
    "# 'A-' == 3.75\n",
    "# 'B+' == 3.50\n",
    "# 'B' == 3.00\n",
    "# 'B-' == 2.75\n",
    "# 'C+' == 2.50\n",
    "# 'C' == 2.00\n",
    "# 'C-' == 1.75\n",
    "# 'D' == 1.50\n",
    "# 'E' == 1.25\n",
    "\n",
    "value_num = 0\n",
    "jumlah_rata = 0\n",
    "\n",
    "while True :\n",
    "\n",
    "    nilai = input(\"Masukan Nilai : \")\n",
    "    nilai = nilai.upper()\n",
    "\n",
    "    if(nilai == '') :\n",
    "        print(\"bentar ya di itung dulu\")\n",
    "        break\n",
    "    elif(nilai == 'A' ) :\n",
    "        value_num += 4.00\n",
    "        jumlah_rata += 1\n",
    "        print(f\"Nilai = 4.00\")\n",
    "    elif(nilai == 'A-' ) :\n",
    "        value_num += 3.75\n",
    "        jumlah_rata += 1\n",
    "        print(f\"Nilai = 3.75\")\n",
    "    elif(nilai == 'B+' ) :\n",
    "        value_num += 3.50\n",
    "        jumlah_rata += 1\n",
    "        print(f\"Nilai = 3.50\")\n",
    "    elif(nilai == 'B' ) :\n",
    "        value_num += 3.00\n",
    "        jumlah_rata += 1\n",
    "        print(f\"Nilai = 3.00\")\n",
    "    elif(nilai == 'B-' ) :\n",
    "        value_num += 2.75\n",
    "        jumlah_rata += 1\n",
    "        print(f\"Nilai = 2.75\")\n",
    "    elif(nilai == 'C+' ) :\n",
    "        value_num += 2.50\n",
    "        jumlah_rata += 1\n",
    "        print(f\"Nilai = 2.50\")\n",
    "    elif(nilai == 'C' ) :\n",
    "        value_num += 2.00\n",
    "        jumlah_rata += 1\n",
    "        print(f\"Nilai = 2.00\")\n",
    "    elif(nilai == 'C-' ) :\n",
    "        value_num += 1.75\n",
    "        jumlah_rata += 1\n",
    "        print(f\"Nilai = 1.75\")\n",
    "    elif(nilai == 'D' ) :\n",
    "        value_num += 1.50\n",
    "        jumlah_rata += 1\n",
    "        print(f\"Nilai = 1.50\")\n",
    "    elif(nilai == 'E' ) :\n",
    "        value_num += 1.25\n",
    "        jumlah_rata += 1\n",
    "        print(f\"Nilai = 1.25\")\n",
    "    else :\n",
    "        print(\"Nilai yang anda masukan tidak valid,Masukan lagi\")\n",
    "    \n",
    "if value_num == 0 :\n",
    "    print(\"Tidak ada nilai yang dapat dihitung\")\n",
    "    \n",
    "rata_rata = value_num / jumlah_rata\n",
    "print(f\"rata-rata nilai : {rata_rata}\")"
   ]
  },
  {
   "cell_type": "code",
   "execution_count": null,
   "id": "7a3bca35-c2b9-4100-835f-05c7370d5c23",
   "metadata": {},
   "outputs": [],
   "source": []
  }
 ],
 "metadata": {
  "kernelspec": {
   "display_name": "Python 3 (ipykernel)",
   "language": "python",
   "name": "python3"
  },
  "language_info": {
   "codemirror_mode": {
    "name": "ipython",
    "version": 3
   },
   "file_extension": ".py",
   "mimetype": "text/x-python",
   "name": "python",
   "nbconvert_exporter": "python",
   "pygments_lexer": "ipython3",
   "version": "3.12.4"
  }
 },
 "nbformat": 4,
 "nbformat_minor": 5
}
