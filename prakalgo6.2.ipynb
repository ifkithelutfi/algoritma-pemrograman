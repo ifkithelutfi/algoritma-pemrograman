{
 "cells": [
  {
   "cell_type": "code",
   "execution_count": 1,
   "id": "6dfba221-6d1f-464d-9987-f53a8c6efa29",
   "metadata": {},
   "outputs": [
    {
     "name": "stdin",
     "output_type": "stream",
     "text": [
      "Masukkan bulan (1-12, atau 0 untuk keluar):  1\n",
      "Masukkan tahun:  2\n"
     ]
    },
    {
     "name": "stdout",
     "output_type": "stream",
     "text": [
      "31 hari dalam bulan 1.\n"
     ]
    },
    {
     "name": "stdin",
     "output_type": "stream",
     "text": [
      "Masukkan bulan (1-12, atau 0 untuk keluar):  3\n",
      "Masukkan tahun:  4\n"
     ]
    },
    {
     "name": "stdout",
     "output_type": "stream",
     "text": [
      "31 hari dalam bulan 3.\n"
     ]
    },
    {
     "name": "stdin",
     "output_type": "stream",
     "text": [
      "Masukkan bulan (1-12, atau 0 untuk keluar):  0\n"
     ]
    },
    {
     "name": "stdout",
     "output_type": "stream",
     "text": [
      "Bye\n"
     ]
    }
   ],
   "source": [
    "def cek_tahun_kabisat(tahun):\n",
    "    return (tahun % 4 == 0 and tahun % 100 != 0) or (tahun % 400 == 0)\n",
    "\n",
    "while True:\n",
    "    bulan = int(input(\"Masukkan bulan (1-12, atau 0 untuk keluar): \"))\n",
    "    if bulan == 0:\n",
    "        break\n",
    "\n",
    "    tahun = int(input(\"Masukkan tahun: \"))\n",
    "\n",
    "    if bulan in [1, 3, 5, 7, 8, 10, 12]:\n",
    "        hari_dalam_bulan = 31\n",
    "    elif bulan in [4, 6, 9, 11]:\n",
    "        hari_dalam_bulan = 30\n",
    "    elif bulan == 2:\n",
    "        hari_dalam_bulan = 29 if cek_tahun_kabisat(tahun) else 28\n",
    "    else:\n",
    "        print(\"Bulan tidak valid.\")\n",
    "        continue\n",
    "\n",
    "    print(f\"{hari_dalam_bulan} hari dalam bulan {bulan}.\")\n",
    "\n",
    "print(\"Bye\")"
   ]
  },
  {
   "cell_type": "code",
   "execution_count": null,
   "id": "ff0545f5-c64b-4afe-ba6a-66b0f289cac7",
   "metadata": {},
   "outputs": [],
   "source": []
  }
 ],
 "metadata": {
  "kernelspec": {
   "display_name": "Python 3 (ipykernel)",
   "language": "python",
   "name": "python3"
  },
  "language_info": {
   "codemirror_mode": {
    "name": "ipython",
    "version": 3
   },
   "file_extension": ".py",
   "mimetype": "text/x-python",
   "name": "python",
   "nbconvert_exporter": "python",
   "pygments_lexer": "ipython3",
   "version": "3.12.4"
  }
 },
 "nbformat": 4,
 "nbformat_minor": 5
}
