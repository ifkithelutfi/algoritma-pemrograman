{
 "cells": [
  {
   "cell_type": "code",
   "execution_count": 9,
   "id": "8d797854-3412-43c3-8589-ffae9d4bda59",
   "metadata": {},
   "outputs": [
    {
     "name": "stdin",
     "output_type": "stream",
     "text": [
      "Masukkan angka pertama:  2.5\n",
      "Masukkan angka kedua:  5\n"
     ]
    },
    {
     "name": "stdout",
     "output_type": "stream",
     "text": [
      "Rata-rata dari dua angka tersebut adalah: 3.75\n"
     ]
    }
   ],
   "source": [
    "def hitung(angka1, angka2):\n",
    "    rata_rata = (angka1 + angka2) / 2\n",
    "    return rata_rata\n",
    "\n",
    "angka1 = float(input(\"Masukkan angka pertama: \"))\n",
    "angka2 = float(input(\"Masukkan angka kedua: \"))\n",
    "\n",
    "jumlah = hitung(angka1, angka2)\n",
    "print(\"Rata-rata dari dua angka tersebut adalah:\", jumlah)"
   ]
  },
  {
   "cell_type": "code",
   "execution_count": null,
   "id": "d355771e-df6a-4dd9-b709-fcdeea1b09ee",
   "metadata": {},
   "outputs": [],
   "source": []
  }
 ],
 "metadata": {
  "kernelspec": {
   "display_name": "Python 3 (ipykernel)",
   "language": "python",
   "name": "python3"
  },
  "language_info": {
   "codemirror_mode": {
    "name": "ipython",
    "version": 3
   },
   "file_extension": ".py",
   "mimetype": "text/x-python",
   "name": "python",
   "nbconvert_exporter": "python",
   "pygments_lexer": "ipython3",
   "version": "3.12.4"
  }
 },
 "nbformat": 4,
 "nbformat_minor": 5
}
