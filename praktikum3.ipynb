{
 "cells": [
  {
   "cell_type": "code",
   "execution_count": 65,
   "id": "0cd7d4a8-5972-44ab-a853-c53065428701",
   "metadata": {},
   "outputs": [
    {
     "name": "stdin",
     "output_type": "stream",
     "text": [
      "Masukkan panjang sisi satu:  100\n",
      "Masukkan panjang sisi dua:  1010\n",
      "Masukkan panjang sisi tiga:  3030\n"
     ]
    },
    {
     "name": "stdout",
     "output_type": "stream",
     "text": [
      "Tidak bisa membentuk segitiga\n"
     ]
    }
   ],
   "source": [
    "import math\n",
    "\n",
    "sisi1 = int(input(\"Masukkan panjang sisi satu: \"))\n",
    "sisi2 = int(input(\"Masukkan panjang sisi dua: \"))\n",
    "sisi3 = int(input(\"Masukkan panjang sisi tiga: \"))\n",
    "\n",
    "if sisi1 + sisi2 > sisi3 and sisi1 + sisi3 > sisi2 and sisi2 + sisi3 > sisi1:\n",
    "    if sisi1 == sisi2 == sisi3:\n",
    "        print (\"Segitiga sama sisi\")\n",
    "    elif sisi1 == sisi2 or sisi1 == sisi3 or sisi2 == sisi3:\n",
    "        print (\"Segitiga sama kaki\")\n",
    "    elif sisi1**2 + sisi2**2 == sisi3**2 or sisi1**2 + sisi3**2 == sisi2**2 or sisi2**2 + sisi3**2 == sisi1**2:\n",
    "        print (\"segitiga siku siku\")\n",
    "    else:\n",
    "        print (\"Segitiga sembarang\")\n",
    "else:\n",
    "    print (\"Tidak bisa membentuk segitiga\")"
   ]
  },
  {
   "cell_type": "code",
   "execution_count": 49,
   "id": "57ed6f85-acf6-476d-9ac8-bd2601a9ec76",
   "metadata": {},
   "outputs": [
    {
     "name": "stdin",
     "output_type": "stream",
     "text": [
      "Masukkan nilai a:  1\n",
      "Masukkan nilai b:  2\n",
      "Masukkan nilai c:  5\n"
     ]
    },
    {
     "name": "stdout",
     "output_type": "stream",
     "text": [
      "Determinannya adalah: -16.0\n",
      "Persamaan memiliki akar kompleks.\n",
      "Akar pertama adalah: (-1+2j)\n",
      "Akar kedua adalah: (-1-2j)\n"
     ]
    }
   ],
   "source": [
    "import math\n",
    "import cmath\n",
    "\n",
    "a = float(input(\"Masukkan nilai a: \"))\n",
    "b = float(input(\"Masukkan nilai b: \"))\n",
    "c = float(input(\"Masukkan nilai c: \"))\n",
    "\n",
    "d = b**2 - 4*a*c\n",
    "if d > 0:\n",
    "    akar1 = (-b + math.sqrt(d)) / (2 * a)\n",
    "    akar2 = (-b - math.sqrt(d)) / (2 * a)\n",
    "    print(\"Determinannya adalah:\", d)\n",
    "    print(\"Persamaan memiliki dua akar nyata dan berbeda.\")\n",
    "    print(\"Akar pertama adalah:\", akar1)\n",
    "    print(\"Akar kedua adalah:\", akar2)\n",
    "\n",
    "elif d == 0:\n",
    "    akar = -b / (2 * a)\n",
    "    print(\"Determinannya adalah:\", d)\n",
    "    print(\"Persamaan memiliki satu akar nyata (kembar).\")\n",
    "    print(\"Akar kembar adalah:\", akar)\n",
    "\n",
    "else:\n",
    "    akar1 = (-b + cmath.sqrt(d)) / (2 * a)\n",
    "    akar2 = (-b - cmath.sqrt(d)) / (2 * a)\n",
    "    print(\"Determinannya adalah:\", d)\n",
    "    print(\"Persamaan memiliki akar kompleks.\")\n",
    "    print(\"Akar pertama adalah:\", akar1)\n",
    "    print(\"Akar kedua adalah:\", akar2)\n"
   ]
  },
  {
   "cell_type": "code",
   "execution_count": null,
   "id": "0c3b5398-4d13-407e-af98-46e5a442cb62",
   "metadata": {},
   "outputs": [],
   "source": []
  }
 ],
 "metadata": {
  "kernelspec": {
   "display_name": "Python 3 (ipykernel)",
   "language": "python",
   "name": "python3"
  },
  "language_info": {
   "codemirror_mode": {
    "name": "ipython",
    "version": 3
   },
   "file_extension": ".py",
   "mimetype": "text/x-python",
   "name": "python",
   "nbconvert_exporter": "python",
   "pygments_lexer": "ipython3",
   "version": "3.12.4"
  }
 },
 "nbformat": 4,
 "nbformat_minor": 5
}
